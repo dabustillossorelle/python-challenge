{
 "cells": [
  {
   "cell_type": "code",
   "execution_count": null,
   "metadata": {},
   "outputs": [],
   "source": [
    "import os\n",
    "import csv"
   ]
  },
  {
   "cell_type": "code",
   "execution_count": null,
   "metadata": {},
   "outputs": [],
   "source": [
    "PyPollpath = os.path.join(\"Resources\",\"election_data.csv\")"
   ]
  },
  {
   "cell_type": "code",
   "execution_count": null,
   "metadata": {},
   "outputs": [],
   "source": [
    "with open(PyPollpath, \"r\", newline=\"\") as PyPollfile:\n",
    "    PyPollreader = csv.reader(PyPollfile, delimiter=\",\")\n",
    "#     for row in PyPollreader: \n",
    "#         print(','.join(row))"
   ]
  },
  {
   "cell_type": "code",
   "execution_count": null,
   "metadata": {},
   "outputs": [],
   "source": [
    "voter_id=[]\n",
    "with open(PyPollpath, \"r\") as PyPollfile:\n",
    "    PyPollreader = csv.reader(PyPollfile, delimiter=\",\")\n",
    "    next(PyPollreader)  \n",
    "    for row in PyPollreader:\n",
    "        voter_id.append(row[0])"
   ]
  },
  {
   "cell_type": "code",
   "execution_count": null,
   "metadata": {},
   "outputs": [],
   "source": [
    "print(voter_id)"
   ]
  },
  {
   "cell_type": "code",
   "execution_count": null,
   "metadata": {},
   "outputs": [],
   "source": [
    "total_votes=len(voter_id)\n",
    "print(total_votes)"
   ]
  },
  {
   "cell_type": "code",
   "execution_count": null,
   "metadata": {},
   "outputs": [],
   "source": [
    "candidate=[]\n",
    "with open(PyPollpath, \"r\") as PyPollfile:\n",
    "    PyPollreader = csv.reader(PyPollfile, delimiter=\",\")\n",
    "    next(PyPollreader) \n",
    "    for row in PyPollreader:\n",
    "       candidate.append(row[2])"
   ]
  },
  {
   "cell_type": "code",
   "execution_count": null,
   "metadata": {},
   "outputs": [],
   "source": [
    "print(candidate)"
   ]
  },
  {
   "cell_type": "code",
   "execution_count": null,
   "metadata": {},
   "outputs": [],
   "source": [
    "from collections import Counter\n",
    "number_votes=Counter(candidate)"
   ]
  },
  {
   "cell_type": "code",
   "execution_count": null,
   "metadata": {},
   "outputs": [],
   "source": [
    "print(number_votes)"
   ]
  },
  {
   "cell_type": "code",
   "execution_count": null,
   "metadata": {},
   "outputs": [],
   "source": [
    "dict(number_votes)"
   ]
  },
  {
   "cell_type": "code",
   "execution_count": null,
   "metadata": {},
   "outputs": [],
   "source": [
    "votes_per_cand=dict(number_votes)"
   ]
  },
  {
   "cell_type": "code",
   "execution_count": null,
   "metadata": {},
   "outputs": [],
   "source": [
    "print(votes_per_cand)"
   ]
  },
  {
   "cell_type": "code",
   "execution_count": null,
   "metadata": {},
   "outputs": [],
   "source": [
    "Khan_tot=votes_per_cand[\"Khan\"]\n",
    "print(Khan_tot)"
   ]
  },
  {
   "cell_type": "code",
   "execution_count": null,
   "metadata": {},
   "outputs": [],
   "source": [
    "Khan_per=((Khan_tot/total_votes)*100)\n",
    "print(Khan_per)"
   ]
  },
  {
   "cell_type": "code",
   "execution_count": null,
   "metadata": {},
   "outputs": [],
   "source": [
    "Correy_tot=votes_per_cand[\"Correy\"]\n",
    "print(Correy_tot)"
   ]
  },
  {
   "cell_type": "code",
   "execution_count": null,
   "metadata": {},
   "outputs": [],
   "source": [
    "Correy_per=((Correy_tot/total_votes)*100)\n",
    "print(Correy_per)"
   ]
  },
  {
   "cell_type": "code",
   "execution_count": null,
   "metadata": {},
   "outputs": [],
   "source": [
    "Li_tot=votes_per_cand[\"Li\"]\n",
    "print(Li_tot)"
   ]
  },
  {
   "cell_type": "code",
   "execution_count": null,
   "metadata": {},
   "outputs": [],
   "source": [
    "Li_per=((Li_tot/total_votes)*100)\n",
    "print(Li_per)"
   ]
  },
  {
   "cell_type": "code",
   "execution_count": null,
   "metadata": {},
   "outputs": [],
   "source": [
    "O_tot=votes_per_cand[\"O'Tooley\"]\n",
    "print(O_tot)"
   ]
  },
  {
   "cell_type": "code",
   "execution_count": null,
   "metadata": {},
   "outputs": [],
   "source": [
    "O_per=((O_tot/total_votes)*100)\n",
    "print(O_per)"
   ]
  },
  {
   "cell_type": "code",
   "execution_count": null,
   "metadata": {},
   "outputs": [],
   "source": [
    "Title= \"Election Results\"\n",
    "total_votes_str=str(total_votes)\n",
    "Khan_tot_str=str(Khan_tot)\n",
    "Correy_tot_str=str(Correy_tot)\n",
    "Li_tot_str=str(Li_tot)\n",
    "O_tot_str=str(O_tot)\n",
    "Khan_per_str=str(Khan_per)\n",
    "Correy_per_str=str(Correy_per)\n",
    "Li_per_str=str(Li_per)\n",
    "O_per_str=str(O_per)\n",
    "format_line=(\"_____________________________________\")\n",
    "winner=(\"Winner:Khan\")"
   ]
  },
  {
   "cell_type": "code",
   "execution_count": null,
   "metadata": {},
   "outputs": [],
   "source": [
    "print(Title)\n",
    "print(format_line)\n",
    "print(f\"Total Votes\" + \" \" + total_votes_str)\n",
    "print(f\"Khan:\" + \" \" + Khan_per_str +\"%\"+ \" \"+ Khan_tot_str)\n",
    "print(f\"Correy:\" + \" \" + Correy_per_str +\"%\"+ \" \"+ Correy_tot_str)\n",
    "print(f\"Li:\" + \" \" + Li_per_str +\"%\"+ \" \"+ Li_tot_str)\n",
    "print(f\"O'Tooley:\" + \" \" + O_per_str +\"%\"+ \" \"+ O_tot_str)\n",
    "print(format_line)\n",
    "print(winner)\n"
   ]
  },
  {
   "cell_type": "code",
   "execution_count": null,
   "metadata": {},
   "outputs": [],
   "source": [
    "Line1=(Title)\n",
    "Line2=(format_line)\n",
    "Line3=(f\"Total Votes\" + \" \" + total_votes_str)\n",
    "Line4=(f\"Khan:\" + \" \" + Khan_per_str +\"%\"+ \" \"+ Khan_tot_str)\n",
    "Line5=(f\"Correy:\" + \" \" + Correy_per_str +\"%\"+ \" \"+ Correy_tot_str)\n",
    "Line6=(f\"Li:\" + \" \" + Li_per_str +\"%\"+ \" \"+ Li_tot_str)\n",
    "Line7=(f\"O'Tooley:\" + \" \" + O_per_str +\"%\"+ \" \"+ O_tot_str)\n",
    "Line8=(format_line)\n",
    "Line9=(winner)"
   ]
  },
  {
   "cell_type": "code",
   "execution_count": null,
   "metadata": {},
   "outputs": [],
   "source": [
    "PyPollpath_text='PyPoll.txt'\n",
    "PyPoll_filet=open(PyPollpath_text, 'w')\n",
    "PyPoll_filet.write(Line1 + '\\n')\n",
    "PyPoll_filet.write(Line2 + '\\n')\n",
    "PyPoll_filet.write(Line3 + '\\n')\n",
    "PyPoll_filet.write(Line4 + '\\n')\n",
    "PyPoll_filet.write(Line5 + '\\n')\n",
    "PyPoll_filet.write(Line6 + '\\n')\n",
    "PyPoll_filet.write(Line7 + '\\n')\n",
    "PyPoll_filet.write(Line8 + '\\n')\n",
    "PyPoll_filet.write(Line9 + '\\n')"
   ]
  },
  {
   "cell_type": "code",
   "execution_count": null,
   "metadata": {},
   "outputs": [],
   "source": []
  }
 ],
 "metadata": {
  "kernelspec": {
   "display_name": "Conda [PythonData]",
   "language": "python",
   "name": "pythondata"
  },
  "language_info": {
   "codemirror_mode": {
    "name": "ipython",
    "version": 3
   },
   "file_extension": ".py",
   "mimetype": "text/x-python",
   "name": "python",
   "nbconvert_exporter": "python",
   "pygments_lexer": "ipython3",
   "version": "3.7.3"
  }
 },
 "nbformat": 4,
 "nbformat_minor": 2
}
