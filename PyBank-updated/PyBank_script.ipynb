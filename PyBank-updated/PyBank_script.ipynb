{
 "cells": [
  {
   "cell_type": "code",
   "execution_count": 3,
   "metadata": {},
   "outputs": [],
   "source": [
    "import os\n",
    "import csv"
   ]
  },
  {
   "cell_type": "code",
   "execution_count": 4,
   "metadata": {},
   "outputs": [],
   "source": [
    "csvpath = os.path.join(\"Resources\",\"budget_data.csv\")"
   ]
  },
  {
   "cell_type": "code",
   "execution_count": 12,
   "metadata": {},
   "outputs": [
    {
     "name": "stdout",
     "output_type": "stream",
     "text": [
      "Date,Profit/Losses\n",
      "Jan-2010,867884\n",
      "Feb-2010,984655\n",
      "Mar-2010,322013\n",
      "Apr-2010,-69417\n",
      "May-2010,310503\n",
      "Jun-2010,522857\n",
      "Jul-2010,1033096\n",
      "Aug-2010,604885\n",
      "Sep-2010,-216386\n",
      "Oct-2010,477532\n",
      "Nov-2010,893810\n",
      "Dec-2010,-80353\n",
      "Jan-2011,779806\n",
      "Feb-2011,-335203\n",
      "Mar-2011,697845\n",
      "Apr-2011,793163\n",
      "May-2011,485070\n",
      "Jun-2011,584122\n",
      "Jul-2011,62729\n",
      "Aug-2011,668179\n",
      "Sep-2011,899906\n",
      "Oct-2011,834719\n",
      "Nov-2011,132003\n",
      "Dec-2011,309978\n",
      "Jan-2012,-755566\n",
      "Feb-2012,1170593\n",
      "Mar-2012,252788\n",
      "Apr-2012,1151518\n",
      "May-2012,817256\n",
      "Jun-2012,570757\n",
      "Jul-2012,506702\n",
      "Aug-2012,-1022534\n",
      "Sep-2012,475062\n",
      "Oct-2012,779976\n",
      "Nov-2012,144175\n",
      "Dec-2012,542494\n",
      "Jan-2013,359333\n",
      "Feb-2013,321469\n",
      "Mar-2013,67780\n",
      "Apr-2013,471435\n",
      "May-2013,565603\n",
      "Jun-2013,872480\n",
      "Jul-2013,789480\n",
      "Aug-2013,999942\n",
      "Sep-2013,-1196225\n",
      "Oct-2013,268997\n",
      "Nov-2013,-687986\n",
      "Dec-2013,1150461\n",
      "Jan-2014,682458\n",
      "Feb-2014,617856\n",
      "Mar-2014,824098\n",
      "Apr-2014,581943\n",
      "May-2014,132864\n",
      "Jun-2014,448062\n",
      "Jul-2014,689161\n",
      "Aug-2014,800701\n",
      "Sep-2014,1166643\n",
      "Oct-2014,947333\n",
      "Nov-2014,578668\n",
      "Dec-2014,988505\n",
      "Jan-2015,1139715\n",
      "Feb-2015,1029471\n",
      "Mar-2015,687533\n",
      "Apr-2015,-524626\n",
      "May-2015,158620\n",
      "Jun-2015,87795\n",
      "Jul-2015,423389\n",
      "Aug-2015,840723\n",
      "Sep-2015,568529\n",
      "Oct-2015,332067\n",
      "Nov-2015,989499\n",
      "Dec-2015,778237\n",
      "Jan-2016,650000\n",
      "Feb-2016,-1100387\n",
      "Mar-2016,-174946\n",
      "Apr-2016,757143\n",
      "May-2016,445709\n",
      "Jun-2016,712961\n",
      "Jul-2016,-1163797\n",
      "Aug-2016,569899\n",
      "Sep-2016,768450\n",
      "Oct-2016,102685\n",
      "Nov-2016,795914\n",
      "Dec-2016,60988\n",
      "Jan-2017,138230\n",
      "Feb-2017,671099\n"
     ]
    }
   ],
   "source": [
    "with open(csvpath, \"r\", newline=\"\") as csvfile:\n",
    "    csvreader = csv.reader(csvfile, delimiter=\",\")\n",
    "    for row in csvreader: \n",
    "        print(','.join(row))"
   ]
  },
  {
   "cell_type": "code",
   "execution_count": 13,
   "metadata": {},
   "outputs": [],
   "source": [
    "month_yr=[]\n",
    "with open(csvpath, \"r\") as csvfile:\n",
    "    csvreader = csv.reader(csvfile, delimiter=\",\")\n",
    "    next(csvreader)  \n",
    "    for row in csvreader:\n",
    "        month_yr.append(row[0])"
   ]
  },
  {
   "cell_type": "code",
   "execution_count": 14,
   "metadata": {},
   "outputs": [
    {
     "name": "stdout",
     "output_type": "stream",
     "text": [
      "['Jan-2010', 'Feb-2010', 'Mar-2010', 'Apr-2010', 'May-2010', 'Jun-2010', 'Jul-2010', 'Aug-2010', 'Sep-2010', 'Oct-2010', 'Nov-2010', 'Dec-2010', 'Jan-2011', 'Feb-2011', 'Mar-2011', 'Apr-2011', 'May-2011', 'Jun-2011', 'Jul-2011', 'Aug-2011', 'Sep-2011', 'Oct-2011', 'Nov-2011', 'Dec-2011', 'Jan-2012', 'Feb-2012', 'Mar-2012', 'Apr-2012', 'May-2012', 'Jun-2012', 'Jul-2012', 'Aug-2012', 'Sep-2012', 'Oct-2012', 'Nov-2012', 'Dec-2012', 'Jan-2013', 'Feb-2013', 'Mar-2013', 'Apr-2013', 'May-2013', 'Jun-2013', 'Jul-2013', 'Aug-2013', 'Sep-2013', 'Oct-2013', 'Nov-2013', 'Dec-2013', 'Jan-2014', 'Feb-2014', 'Mar-2014', 'Apr-2014', 'May-2014', 'Jun-2014', 'Jul-2014', 'Aug-2014', 'Sep-2014', 'Oct-2014', 'Nov-2014', 'Dec-2014', 'Jan-2015', 'Feb-2015', 'Mar-2015', 'Apr-2015', 'May-2015', 'Jun-2015', 'Jul-2015', 'Aug-2015', 'Sep-2015', 'Oct-2015', 'Nov-2015', 'Dec-2015', 'Jan-2016', 'Feb-2016', 'Mar-2016', 'Apr-2016', 'May-2016', 'Jun-2016', 'Jul-2016', 'Aug-2016', 'Sep-2016', 'Oct-2016', 'Nov-2016', 'Dec-2016', 'Jan-2017', 'Feb-2017']\n"
     ]
    }
   ],
   "source": [
    "print(month_yr)"
   ]
  },
  {
   "cell_type": "code",
   "execution_count": 15,
   "metadata": {},
   "outputs": [
    {
     "data": {
      "text/plain": [
       "Counter({'Jan-2010': 1,\n",
       "         'Feb-2010': 1,\n",
       "         'Mar-2010': 1,\n",
       "         'Apr-2010': 1,\n",
       "         'May-2010': 1,\n",
       "         'Jun-2010': 1,\n",
       "         'Jul-2010': 1,\n",
       "         'Aug-2010': 1,\n",
       "         'Sep-2010': 1,\n",
       "         'Oct-2010': 1,\n",
       "         'Nov-2010': 1,\n",
       "         'Dec-2010': 1,\n",
       "         'Jan-2011': 1,\n",
       "         'Feb-2011': 1,\n",
       "         'Mar-2011': 1,\n",
       "         'Apr-2011': 1,\n",
       "         'May-2011': 1,\n",
       "         'Jun-2011': 1,\n",
       "         'Jul-2011': 1,\n",
       "         'Aug-2011': 1,\n",
       "         'Sep-2011': 1,\n",
       "         'Oct-2011': 1,\n",
       "         'Nov-2011': 1,\n",
       "         'Dec-2011': 1,\n",
       "         'Jan-2012': 1,\n",
       "         'Feb-2012': 1,\n",
       "         'Mar-2012': 1,\n",
       "         'Apr-2012': 1,\n",
       "         'May-2012': 1,\n",
       "         'Jun-2012': 1,\n",
       "         'Jul-2012': 1,\n",
       "         'Aug-2012': 1,\n",
       "         'Sep-2012': 1,\n",
       "         'Oct-2012': 1,\n",
       "         'Nov-2012': 1,\n",
       "         'Dec-2012': 1,\n",
       "         'Jan-2013': 1,\n",
       "         'Feb-2013': 1,\n",
       "         'Mar-2013': 1,\n",
       "         'Apr-2013': 1,\n",
       "         'May-2013': 1,\n",
       "         'Jun-2013': 1,\n",
       "         'Jul-2013': 1,\n",
       "         'Aug-2013': 1,\n",
       "         'Sep-2013': 1,\n",
       "         'Oct-2013': 1,\n",
       "         'Nov-2013': 1,\n",
       "         'Dec-2013': 1,\n",
       "         'Jan-2014': 1,\n",
       "         'Feb-2014': 1,\n",
       "         'Mar-2014': 1,\n",
       "         'Apr-2014': 1,\n",
       "         'May-2014': 1,\n",
       "         'Jun-2014': 1,\n",
       "         'Jul-2014': 1,\n",
       "         'Aug-2014': 1,\n",
       "         'Sep-2014': 1,\n",
       "         'Oct-2014': 1,\n",
       "         'Nov-2014': 1,\n",
       "         'Dec-2014': 1,\n",
       "         'Jan-2015': 1,\n",
       "         'Feb-2015': 1,\n",
       "         'Mar-2015': 1,\n",
       "         'Apr-2015': 1,\n",
       "         'May-2015': 1,\n",
       "         'Jun-2015': 1,\n",
       "         'Jul-2015': 1,\n",
       "         'Aug-2015': 1,\n",
       "         'Sep-2015': 1,\n",
       "         'Oct-2015': 1,\n",
       "         'Nov-2015': 1,\n",
       "         'Dec-2015': 1,\n",
       "         'Jan-2016': 1,\n",
       "         'Feb-2016': 1,\n",
       "         'Mar-2016': 1,\n",
       "         'Apr-2016': 1,\n",
       "         'May-2016': 1,\n",
       "         'Jun-2016': 1,\n",
       "         'Jul-2016': 1,\n",
       "         'Aug-2016': 1,\n",
       "         'Sep-2016': 1,\n",
       "         'Oct-2016': 1,\n",
       "         'Nov-2016': 1,\n",
       "         'Dec-2016': 1,\n",
       "         'Jan-2017': 1,\n",
       "         'Feb-2017': 1})"
      ]
     },
     "execution_count": 15,
     "metadata": {},
     "output_type": "execute_result"
    }
   ],
   "source": [
    "from collections import Counter\n",
    "month_yr = ['Jan-2010', 'Feb-2010', 'Mar-2010', 'Apr-2010', 'May-2010', 'Jun-2010', 'Jul-2010', 'Aug-2010', 'Sep-2010', 'Oct-2010', 'Nov-2010', 'Dec-2010', 'Jan-2011', 'Feb-2011', 'Mar-2011', 'Apr-2011', 'May-2011', 'Jun-2011', 'Jul-2011', 'Aug-2011', 'Sep-2011', 'Oct-2011', 'Nov-2011', 'Dec-2011', 'Jan-2012', 'Feb-2012', 'Mar-2012', 'Apr-2012', 'May-2012', 'Jun-2012', 'Jul-2012', 'Aug-2012', 'Sep-2012', 'Oct-2012', 'Nov-2012', 'Dec-2012', 'Jan-2013', 'Feb-2013', 'Mar-2013', 'Apr-2013', 'May-2013', 'Jun-2013', 'Jul-2013', 'Aug-2013', 'Sep-2013', 'Oct-2013', 'Nov-2013', 'Dec-2013', 'Jan-2014', 'Feb-2014', 'Mar-2014', 'Apr-2014', 'May-2014', 'Jun-2014', 'Jul-2014', 'Aug-2014', 'Sep-2014', 'Oct-2014', 'Nov-2014', 'Dec-2014', 'Jan-2015', 'Feb-2015', 'Mar-2015', 'Apr-2015', 'May-2015', 'Jun-2015', 'Jul-2015', 'Aug-2015', 'Sep-2015', 'Oct-2015', 'Nov-2015', 'Dec-2015', 'Jan-2016', 'Feb-2016', 'Mar-2016', 'Apr-2016', 'May-2016', 'Jun-2016', 'Jul-2016', 'Aug-2016', 'Sep-2016', 'Oct-2016', 'Nov-2016', 'Dec-2016', 'Jan-2017', 'Feb-2017']\n",
    "Counter(month_yr)"
   ]
  },
  {
   "cell_type": "code",
   "execution_count": 16,
   "metadata": {},
   "outputs": [
    {
     "data": {
      "text/plain": [
       "86"
      ]
     },
     "execution_count": 16,
     "metadata": {},
     "output_type": "execute_result"
    }
   ],
   "source": [
    "month_yr = ['Jan-2010', 'Feb-2010', 'Mar-2010', 'Apr-2010', 'May-2010', 'Jun-2010', 'Jul-2010', 'Aug-2010', 'Sep-2010', 'Oct-2010', 'Nov-2010', 'Dec-2010', 'Jan-2011', 'Feb-2011', 'Mar-2011', 'Apr-2011', 'May-2011', 'Jun-2011', 'Jul-2011', 'Aug-2011', 'Sep-2011', 'Oct-2011', 'Nov-2011', 'Dec-2011', 'Jan-2012', 'Feb-2012', 'Mar-2012', 'Apr-2012', 'May-2012', 'Jun-2012', 'Jul-2012', 'Aug-2012', 'Sep-2012', 'Oct-2012', 'Nov-2012', 'Dec-2012', 'Jan-2013', 'Feb-2013', 'Mar-2013', 'Apr-2013', 'May-2013', 'Jun-2013', 'Jul-2013', 'Aug-2013', 'Sep-2013', 'Oct-2013', 'Nov-2013', 'Dec-2013', 'Jan-2014', 'Feb-2014', 'Mar-2014', 'Apr-2014', 'May-2014', 'Jun-2014', 'Jul-2014', 'Aug-2014', 'Sep-2014', 'Oct-2014', 'Nov-2014', 'Dec-2014', 'Jan-2015', 'Feb-2015', 'Mar-2015', 'Apr-2015', 'May-2015', 'Jun-2015', 'Jul-2015', 'Aug-2015', 'Sep-2015', 'Oct-2015', 'Nov-2015', 'Dec-2015', 'Jan-2016', 'Feb-2016', 'Mar-2016', 'Apr-2016', 'May-2016', 'Jun-2016', 'Jul-2016', 'Aug-2016', 'Sep-2016', 'Oct-2016', 'Nov-2016', 'Dec-2016', 'Jan-2017', 'Feb-2017']\n",
    "len(month_yr)"
   ]
  },
  {
   "cell_type": "code",
   "execution_count": 18,
   "metadata": {},
   "outputs": [],
   "source": [
    "profit_losses=[]\n",
    "with open(csvpath, \"r\") as csvfile:\n",
    "    csvreader = csv.reader(csvfile, delimiter=\",\")\n",
    "    next(csvreader) \n",
    "    for row in csvreader:\n",
    "       profit_losses.append(row[1])"
   ]
  },
  {
   "cell_type": "code",
   "execution_count": 19,
   "metadata": {
    "scrolled": true
   },
   "outputs": [
    {
     "name": "stdout",
     "output_type": "stream",
     "text": [
      "['867884', '984655', '322013', '-69417', '310503', '522857', '1033096', '604885', '-216386', '477532', '893810', '-80353', '779806', '-335203', '697845', '793163', '485070', '584122', '62729', '668179', '899906', '834719', '132003', '309978', '-755566', '1170593', '252788', '1151518', '817256', '570757', '506702', '-1022534', '475062', '779976', '144175', '542494', '359333', '321469', '67780', '471435', '565603', '872480', '789480', '999942', '-1196225', '268997', '-687986', '1150461', '682458', '617856', '824098', '581943', '132864', '448062', '689161', '800701', '1166643', '947333', '578668', '988505', '1139715', '1029471', '687533', '-524626', '158620', '87795', '423389', '840723', '568529', '332067', '989499', '778237', '650000', '-1100387', '-174946', '757143', '445709', '712961', '-1163797', '569899', '768450', '102685', '795914', '60988', '138230', '671099']\n"
     ]
    }
   ],
   "source": [
    "print(profit_losses)"
   ]
  },
  {
   "cell_type": "code",
   "execution_count": 29,
   "metadata": {},
   "outputs": [],
   "source": [
    "profit_losses = ['867884', '984655', '322013', '-69417', '310503', '522857', '1033096', '604885', '-216386', '477532', '893810', '-80353', '779806', '-335203', '697845', '793163', '485070', '584122', '62729', '668179', '899906', '834719', '132003', '309978', '-755566', '1170593', '252788', '1151518', '817256', '570757', '506702', '-1022534', '475062', '779976', '144175', '542494', '359333', '321469', '67780', '471435', '565603', '872480', '789480', '999942', '-1196225', '268997', '-687986', '1150461', '682458', '617856', '824098', '581943', '132864', '448062', '689161', '800701', '1166643', '947333', '578668', '988505', '1139715', '1029471', '687533', '-524626', '158620', '87795', '423389', '840723', '568529', '332067', '989499', '778237', '650000', '-1100387', '-174946', '757143', '445709', '712961', '-1163797', '569899', '768450', '102685', '795914', '60988', '138230', '671099']\n",
    "for i in range(len(profit_losses)):\n",
    "    profit_losses[i]=int (profit_losses[i])"
   ]
  },
  {
   "cell_type": "code",
   "execution_count": 30,
   "metadata": {},
   "outputs": [
    {
     "data": {
      "text/plain": [
       "38382578"
      ]
     },
     "execution_count": 30,
     "metadata": {},
     "output_type": "execute_result"
    }
   ],
   "source": [
    "sum(profit_losses)"
   ]
  },
  {
   "cell_type": "code",
   "execution_count": 31,
   "metadata": {},
   "outputs": [
    {
     "name": "stdout",
     "output_type": "stream",
     "text": [
      "[867884, 984655, 322013, -69417, 310503, 522857, 1033096, 604885, -216386, 477532, 893810, -80353, 779806, -335203, 697845, 793163, 485070, 584122, 62729, 668179, 899906, 834719, 132003, 309978, -755566, 1170593, 252788, 1151518, 817256, 570757, 506702, -1022534, 475062, 779976, 144175, 542494, 359333, 321469, 67780, 471435, 565603, 872480, 789480, 999942, -1196225, 268997, -687986, 1150461, 682458, 617856, 824098, 581943, 132864, 448062, 689161, 800701, 1166643, 947333, 578668, 988505, 1139715, 1029471, 687533, -524626, 158620, 87795, 423389, 840723, 568529, 332067, 989499, 778237, 650000, -1100387, -174946, 757143, 445709, 712961, -1163797, 569899, 768450, 102685, 795914, 60988, 138230, 671099]\n"
     ]
    }
   ],
   "source": [
    "print(profit_losses)"
   ]
  },
  {
   "cell_type": "code",
   "execution_count": 32,
   "metadata": {},
   "outputs": [
    {
     "name": "stdout",
     "output_type": "stream",
     "text": [
      "446309.0465116279\n"
     ]
    }
   ],
   "source": [
    "average_profit_losses= sum(profit_losses)/len(profit_losses)\n",
    "print(average_profit_losses)"
   ]
  },
  {
   "cell_type": "code",
   "execution_count": 33,
   "metadata": {},
   "outputs": [
    {
     "name": "stdout",
     "output_type": "stream",
     "text": [
      "[116771, -662642, -391430, 379920, 212354, 510239, -428211, -821271, 693918, 416278, -974163, 860159, -1115009, 1033048, 95318, -308093, 99052, -521393, 605450, 231727, -65187, -702716, 177975, -1065544, 1926159, -917805, 898730, -334262, -246499, -64055, -1529236, 1497596, 304914, -635801, 398319, -183161, -37864, -253689, 403655, 94168, 306877, -83000, 210462, -2196167, 1465222, -956983, 1838447, -468003, -64602, 206242, -242155, -449079, 315198, 241099, 111540, 365942, -219310, -368665, 409837, 151210, -110244, -341938, -1212159, 683246, -70825, 335594, 417334, -272194, -236462, 657432, -211262, -128237, -1750387, 925441, 932089, -311434, 267252, -1876758, 1733696, 198551, -665765, 693229, -734926, 77242, 532869]\n"
     ]
    }
   ],
   "source": [
    "import operator\n",
    "profit_losses = [867884, 984655, 322013, -69417, 310503, 522857, 1033096, 604885, -216386, 477532, 893810, -80353, 779806, -335203, 697845, 793163, 485070, 584122, 62729, 668179, 899906, 834719, 132003, 309978, -755566, 1170593, 252788, 1151518, 817256, 570757, 506702, -1022534, 475062, 779976, 144175, 542494, 359333, 321469, 67780, 471435, 565603, 872480, 789480, 999942, -1196225, 268997, -687986, 1150461, 682458, 617856, 824098, 581943, 132864, 448062, 689161, 800701, 1166643, 947333, 578668, 988505, 1139715, 1029471, 687533, -524626, 158620, 87795, 423389, 840723, 568529, 332067, 989499, 778237, 650000, -1100387, -174946, 757143, 445709, 712961, -1163797, 569899, 768450, 102685, 795914, 60988, 138230, 671099]\n",
    "change_profit = res = list(map(operator.sub, profit_lossess[1:], profit_lossess[:-1]))\n",
    "print(change_profit)\n"
   ]
  },
  {
   "cell_type": "code",
   "execution_count": 34,
   "metadata": {},
   "outputs": [
    {
     "name": "stdout",
     "output_type": "stream",
     "text": [
      "-2315.1176470588234\n"
     ]
    }
   ],
   "source": [
    "average_change_profits=sum(change_profit)/len(change_profit)\n",
    "print(average_change_profits)"
   ]
  },
  {
   "cell_type": "code",
   "execution_count": 64,
   "metadata": {},
   "outputs": [
    {
     "data": {
      "text/plain": [
       "1926159"
      ]
     },
     "execution_count": 64,
     "metadata": {},
     "output_type": "execute_result"
    }
   ],
   "source": [
    "max(change_profit)"
   ]
  },
  {
   "cell_type": "code",
   "execution_count": 65,
   "metadata": {},
   "outputs": [
    {
     "data": {
      "text/plain": [
       "-2196167"
      ]
     },
     "execution_count": 65,
     "metadata": {},
     "output_type": "execute_result"
    }
   ],
   "source": [
    "min(change_profit)"
   ]
  },
  {
   "cell_type": "code",
   "execution_count": 35,
   "metadata": {
    "scrolled": false
   },
   "outputs": [
    {
     "data": {
      "text/plain": [
       "['Jan-20108678840',\n",
       " 'Feb-2010984655116771',\n",
       " 'Mar-2010322013-662642',\n",
       " 'Apr-2010-69417-391430',\n",
       " 'May-2010310503379920',\n",
       " 'Jun-2010522857212354',\n",
       " 'Jul-20101033096510239',\n",
       " 'Aug-2010604885-428211',\n",
       " 'Sep-2010-216386-821271',\n",
       " 'Oct-2010477532693918',\n",
       " 'Nov-2010893810416278',\n",
       " 'Dec-2010-80353-974163',\n",
       " 'Jan-2011779806860159',\n",
       " 'Feb-2011-335203-1115009',\n",
       " 'Mar-20116978451033048',\n",
       " 'Apr-201179316395318',\n",
       " 'May-2011485070-308093',\n",
       " 'Jun-201158412299052',\n",
       " 'Jul-201162729-521393',\n",
       " 'Aug-2011668179605450',\n",
       " 'Sep-2011899906231727',\n",
       " 'Oct-2011834719-65187',\n",
       " 'Nov-2011132003-702716',\n",
       " 'Dec-2011309978177975',\n",
       " 'Jan-2012-755566-1065544',\n",
       " 'Feb-201211705931926159',\n",
       " 'Mar-2012252788-917805',\n",
       " 'Apr-20121151518898730',\n",
       " 'May-2012817256-334262',\n",
       " 'Jun-2012570757-246499',\n",
       " 'Jul-2012506702-64055',\n",
       " 'Aug-2012-1022534-1529236',\n",
       " 'Sep-20124750621497596',\n",
       " 'Oct-2012779976304914',\n",
       " 'Nov-2012144175-635801',\n",
       " 'Dec-2012542494398319',\n",
       " 'Jan-2013359333-183161',\n",
       " 'Feb-2013321469-37864',\n",
       " 'Mar-201367780-253689',\n",
       " 'Apr-2013471435403655',\n",
       " 'May-201356560394168',\n",
       " 'Jun-2013872480306877',\n",
       " 'Jul-2013789480-83000',\n",
       " 'Aug-2013999942210462',\n",
       " 'Sep-2013-1196225-2196167',\n",
       " 'Oct-20132689971465222',\n",
       " 'Nov-2013-687986-956983',\n",
       " 'Dec-201311504611838447',\n",
       " 'Jan-2014682458-468003',\n",
       " 'Feb-2014617856-64602',\n",
       " 'Mar-2014824098206242',\n",
       " 'Apr-2014581943-242155',\n",
       " 'May-2014132864-449079',\n",
       " 'Jun-2014448062315198',\n",
       " 'Jul-2014689161241099',\n",
       " 'Aug-2014800701111540',\n",
       " 'Sep-20141166643365942',\n",
       " 'Oct-2014947333-219310',\n",
       " 'Nov-2014578668-368665',\n",
       " 'Dec-2014988505409837',\n",
       " 'Jan-20151139715151210',\n",
       " 'Feb-20151029471-110244',\n",
       " 'Mar-2015687533-341938',\n",
       " 'Apr-2015-524626-1212159',\n",
       " 'May-2015158620683246',\n",
       " 'Jun-201587795-70825',\n",
       " 'Jul-2015423389335594',\n",
       " 'Aug-2015840723417334',\n",
       " 'Sep-2015568529-272194',\n",
       " 'Oct-2015332067-236462',\n",
       " 'Nov-2015989499657432',\n",
       " 'Dec-2015778237-211262',\n",
       " 'Jan-2016650000-128237',\n",
       " 'Feb-2016-1100387-1750387',\n",
       " 'Mar-2016-174946925441',\n",
       " 'Apr-2016757143932089',\n",
       " 'May-2016445709-311434',\n",
       " 'Jun-2016712961267252',\n",
       " 'Jul-2016-1163797-1876758',\n",
       " 'Aug-20165698991733696',\n",
       " 'Sep-2016768450198551',\n",
       " 'Oct-2016102685-665765',\n",
       " 'Nov-2016795914693229',\n",
       " 'Dec-201660988-734926',\n",
       " 'Jan-201713823077242',\n",
       " 'Feb-2017671099532869']"
      ]
     },
     "execution_count": 35,
     "metadata": {},
     "output_type": "execute_result"
    }
   ],
   "source": [
    "month_yr = ['Jan-2010', 'Feb-2010', 'Mar-2010', 'Apr-2010', 'May-2010', 'Jun-2010', 'Jul-2010', 'Aug-2010', 'Sep-2010', 'Oct-2010', 'Nov-2010', 'Dec-2010', 'Jan-2011', 'Feb-2011', 'Mar-2011', 'Apr-2011', 'May-2011', 'Jun-2011', 'Jul-2011', 'Aug-2011', 'Sep-2011', 'Oct-2011', 'Nov-2011', 'Dec-2011', 'Jan-2012', 'Feb-2012', 'Mar-2012', 'Apr-2012', 'May-2012', 'Jun-2012', 'Jul-2012', 'Aug-2012', 'Sep-2012', 'Oct-2012', 'Nov-2012', 'Dec-2012', 'Jan-2013', 'Feb-2013', 'Mar-2013', 'Apr-2013', 'May-2013', 'Jun-2013', 'Jul-2013', 'Aug-2013', 'Sep-2013', 'Oct-2013', 'Nov-2013', 'Dec-2013', 'Jan-2014', 'Feb-2014', 'Mar-2014', 'Apr-2014', 'May-2014', 'Jun-2014', 'Jul-2014', 'Aug-2014', 'Sep-2014', 'Oct-2014', 'Nov-2014', 'Dec-2014', 'Jan-2015', 'Feb-2015', 'Mar-2015', 'Apr-2015', 'May-2015', 'Jun-2015', 'Jul-2015', 'Aug-2015', 'Sep-2015', 'Oct-2015', 'Nov-2015', 'Dec-2015', 'Jan-2016', 'Feb-2016', 'Mar-2016', 'Apr-2016', 'May-2016', 'Jun-2016', 'Jul-2016', 'Aug-2016', 'Sep-2016', 'Oct-2016', 'Nov-2016', 'Dec-2016', 'Jan-2017', 'Feb-2017']\n",
    "profit_lossess = [867884, 984655, 322013, -69417, 310503, 522857, 1033096, 604885, -216386, 477532, 893810, -80353, 779806, -335203, 697845, 793163, 485070, 584122, 62729, 668179, 899906, 834719, 132003, 309978, -755566, 1170593, 252788, 1151518, 817256, 570757, 506702, -1022534, 475062, 779976, 144175, 542494, 359333, 321469, 67780, 471435, 565603, 872480, 789480, 999942, -1196225, 268997, -687986, 1150461, 682458, 617856, 824098, 581943, 132864, 448062, 689161, 800701, 1166643, 947333, 578668, 988505, 1139715, 1029471, 687533, -524626, 158620, 87795, 423389, 840723, 568529, 332067, 989499, 778237, 650000, -1100387, -174946, 757143, 445709, 712961, -1163797, 569899, 768450, 102685, 795914, 60988, 138230, 671099]\n",
    "change_profit = [0,116771, -662642, -391430, 379920, 212354, 510239, -428211, -821271, 693918, 416278, -974163, 860159, -1115009, 1033048, 95318, -308093, 99052, -521393, 605450, 231727, -65187, -702716, 177975, -1065544, 1926159, -917805, 898730, -334262, -246499, -64055, -1529236, 1497596, 304914, -635801, 398319, -183161, -37864, -253689, 403655, 94168, 306877, -83000, 210462, -2196167, 1465222, -956983, 1838447, -468003, -64602, 206242, -242155, -449079, 315198, 241099, 111540, 365942, -219310, -368665, 409837, 151210, -110244, -341938, -1212159, 683246, -70825, 335594, 417334, -272194, -236462, 657432, -211262, -128237, -1750387, 925441, 932089, -311434, 267252, -1876758, 1733696, 198551, -665765, 693229, -734926, 77242, 532869]\n",
    "[''.join(map(str, i)) for i in zip(month_yr, profit_lossess,change_profit)]"
   ]
  },
  {
   "cell_type": "code",
   "execution_count": 43,
   "metadata": {},
   "outputs": [],
   "source": [
    "month_yr = ['Jan-2010', 'Feb-2010', 'Mar-2010', 'Apr-2010', 'May-2010', 'Jun-2010', 'Jul-2010', 'Aug-2010', 'Sep-2010', 'Oct-2010', 'Nov-2010', 'Dec-2010', 'Jan-2011', 'Feb-2011', 'Mar-2011', 'Apr-2011', 'May-2011', 'Jun-2011', 'Jul-2011', 'Aug-2011', 'Sep-2011', 'Oct-2011', 'Nov-2011', 'Dec-2011', 'Jan-2012', 'Feb-2012', 'Mar-2012', 'Apr-2012', 'May-2012', 'Jun-2012', 'Jul-2012', 'Aug-2012', 'Sep-2012', 'Oct-2012', 'Nov-2012', 'Dec-2012', 'Jan-2013', 'Feb-2013', 'Mar-2013', 'Apr-2013', 'May-2013', 'Jun-2013', 'Jul-2013', 'Aug-2013', 'Sep-2013', 'Oct-2013', 'Nov-2013', 'Dec-2013', 'Jan-2014', 'Feb-2014', 'Mar-2014', 'Apr-2014', 'May-2014', 'Jun-2014', 'Jul-2014', 'Aug-2014', 'Sep-2014', 'Oct-2014', 'Nov-2014', 'Dec-2014', 'Jan-2015', 'Feb-2015', 'Mar-2015', 'Apr-2015', 'May-2015', 'Jun-2015', 'Jul-2015', 'Aug-2015', 'Sep-2015', 'Oct-2015', 'Nov-2015', 'Dec-2015', 'Jan-2016', 'Feb-2016', 'Mar-2016', 'Apr-2016', 'May-2016', 'Jun-2016', 'Jul-2016', 'Aug-2016', 'Sep-2016', 'Oct-2016', 'Nov-2016', 'Dec-2016', 'Jan-2017', 'Feb-2017']\n",
    "length_month_yr= [len(month_yr)]"
   ]
  },
  {
   "cell_type": "code",
   "execution_count": 75,
   "metadata": {},
   "outputs": [],
   "source": [
    "lngth_mth_yr_str=str(length_month_yr)"
   ]
  },
  {
   "cell_type": "code",
   "execution_count": 49,
   "metadata": {},
   "outputs": [],
   "source": [
    "sum_profit_losses= [sum(profit_losses)]"
   ]
  },
  {
   "cell_type": "code",
   "execution_count": 72,
   "metadata": {},
   "outputs": [],
   "source": [
    "sum_prft_loss_str=str(sum_profit_losses)"
   ]
  },
  {
   "cell_type": "code",
   "execution_count": 73,
   "metadata": {},
   "outputs": [
    {
     "name": "stdout",
     "output_type": "stream",
     "text": [
      "[-2288.1976744186045]\n"
     ]
    }
   ],
   "source": [
    "average_change_profits=[sum(change_profit)/len(change_profit)]\n",
    "print(average_change_profits)"
   ]
  },
  {
   "cell_type": "code",
   "execution_count": 74,
   "metadata": {},
   "outputs": [],
   "source": [
    "avg_chng_prft_str=str(average_change_profits)"
   ]
  },
  {
   "cell_type": "code",
   "execution_count": 60,
   "metadata": {},
   "outputs": [
    {
     "name": "stdout",
     "output_type": "stream",
     "text": [
      "[1926159]\n"
     ]
    }
   ],
   "source": [
    "mx_chng_prft=[max(change_profit)]\n",
    "print(mx_chng_prft)"
   ]
  },
  {
   "cell_type": "code",
   "execution_count": 70,
   "metadata": {},
   "outputs": [],
   "source": [
    "mx_chng_prft_str=str(mx_chng_prft)"
   ]
  },
  {
   "cell_type": "code",
   "execution_count": 64,
   "metadata": {},
   "outputs": [
    {
     "name": "stdout",
     "output_type": "stream",
     "text": [
      "[-2196167]\n"
     ]
    }
   ],
   "source": [
    "lst_chng_prft=[min(change_profit)]\n",
    "print(lst_chng_prft)"
   ]
  },
  {
   "cell_type": "code",
   "execution_count": 69,
   "metadata": {},
   "outputs": [],
   "source": [
    "lst_chng_prft_str=str(lst_chng_prft)"
   ]
  },
  {
   "cell_type": "code",
   "execution_count": 146,
   "metadata": {},
   "outputs": [
    {
     "name": "stdout",
     "output_type": "stream",
     "text": [
      "Financial Analysis\n",
      "Total Months: [86]\n",
      "Total: $[38382578]\n",
      "Average Change: $[-2288.1976744186045]\n",
      "Greatest Increase in Profits:Feb-2012 $[1926159]\n",
      "Greatest Decrease in Profits:Sept-2013 $[-2196167]\n"
     ]
    }
   ],
   "source": [
    "Title= \"Financial Analysis\"\n",
    "lngth_mth_yr_str=str(length_month_yr)\n",
    "sum_prft_loss_str=str(sum_profit_losses)\n",
    "avg_chng_prft_str=str(average_change_profits)\n",
    "mx_chng_prft_str=str(mx_chng_prft)\n",
    "lst_chng_prft_str=str(lst_chng_prft)\n",
    "print(Title)\n",
    "print(f\"Total Months:\" + \" \" + lngth_mth_yr_str)\n",
    "print(f\"Total:\" + \" \" + \"$\"+ sum_prft_loss_str)\n",
    "print(f\"Average Change:\" + \" \"+ \"$\"+ avg_chng_prft_str)\n",
    "print(f\"Greatest Increase in Profits:\" + \"Feb-2012\" + \" \"+ \"$\"+ mx_chng_prft_str)\n",
    "print(f\"Greatest Decrease in Profits:\"+ \"Sept-2013\" + \" \" + \"$\"+ lst_chng_prft_str)"
   ]
  },
  {
   "cell_type": "code",
   "execution_count": 147,
   "metadata": {},
   "outputs": [
    {
     "name": "stdout",
     "output_type": "stream",
     "text": [
      "Total Months: [86]\n"
     ]
    }
   ],
   "source": [
    "Total_Mnths=str(\"Total Months:\" + \" \" + lngth_mth_yr_str)\n",
    "Total=str(\"Total:\" + \" \" + \"$\"+ sum_prft_loss_str)\n",
    "Avg_chng=str(\"Average Change:\" + \" \"+ \"$\"+ avg_chng_prft_str)\n",
    "Grt_Inc=str(\"Greatest Increase in Profits:\" + \"Feb-2012\" + \" \"+ \"$\"+ mx_chng_prft_str)\n",
    "Grt_Dec=str(\"Greatest Decrease in Profits:\"+ \"Sept-2013\" + \" \" + \"$\"+ lst_chng_prft_str)\n",
    "Title=str(Title)\n",
    "print(Total_Mnths)"
   ]
  },
  {
   "cell_type": "code",
   "execution_count": 149,
   "metadata": {},
   "outputs": [
    {
     "data": {
      "text/plain": [
       "51"
      ]
     },
     "execution_count": 149,
     "metadata": {},
     "output_type": "execute_result"
    }
   ],
   "source": [
    "PyBankpath='PyBank.txt'\n",
    "PyBank_file=open(PyBankpath, 'w')\n",
    "PyBank_file.write(Title + '\\n')\n",
    "PyBank_file.write(Total_Mnths + '\\n')\n",
    "PyBank_file.write(Total + '\\n')\n",
    "PyBank_file.write(Avg_chng + '\\n')\n",
    "PyBank_file.write(Grt_Inc + '\\n')\n",
    "PyBank_file.write(Grt_Dec + '\\n')"
   ]
  },
  {
   "cell_type": "code",
   "execution_count": null,
   "metadata": {},
   "outputs": [],
   "source": []
  }
 ],
 "metadata": {
  "kernelspec": {
   "display_name": "Python 3",
   "language": "python",
   "name": "python3"
  },
  "language_info": {
   "codemirror_mode": {
    "name": "ipython",
    "version": 3
   },
   "file_extension": ".py",
   "mimetype": "text/x-python",
   "name": "python",
   "nbconvert_exporter": "python",
   "pygments_lexer": "ipython3",
   "version": "3.7.3"
  }
 },
 "nbformat": 4,
 "nbformat_minor": 2
}
